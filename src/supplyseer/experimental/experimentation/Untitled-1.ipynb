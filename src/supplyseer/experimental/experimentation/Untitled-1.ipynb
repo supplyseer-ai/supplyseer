{
 "cells": [
  {
   "cell_type": "code",
   "execution_count": null,
   "metadata": {},
   "outputs": [],
   "source": []
  },
  {
   "cell_type": "code",
   "execution_count": null,
   "metadata": {},
   "outputs": [],
   "source": []
  },
  {
   "cell_type": "code",
   "execution_count": null,
   "metadata": {},
   "outputs": [],
   "source": []
  },
  {
   "cell_type": "code",
   "execution_count": null,
   "metadata": {},
   "outputs": [],
   "source": [
    "text = \"Hhello\""
   ]
  },
  {
   "cell_type": "code",
   "execution_count": 28,
   "metadata": {},
   "outputs": [
    {
     "name": "stdout",
     "output_type": "stream",
     "text": [
      "K\n",
      "h\n",
      "o\n",
      "o\n",
      "r\n"
     ]
    }
   ],
   "source": [
    "shift = 3\n",
    "for char in text:\n",
    "    if char.isalpha():\n",
    "        \n",
    "        if char.isupper():\n",
    "            print(chr((ord(char) - ord('A') + shift) % 26 + ord('A')))\n",
    "\n",
    "        if char.islower():\n",
    "            print(chr((ord(char) - ord('a') + shift) % 26 + ord('a')))"
   ]
  },
  {
   "cell_type": "code",
   "execution_count": 40,
   "metadata": {},
   "outputs": [],
   "source": [
    "text = \"Hello, Python!\""
   ]
  },
  {
   "cell_type": "code",
   "execution_count": 56,
   "metadata": {},
   "outputs": [
    {
     "name": "stdout",
     "output_type": "stream",
     "text": [
      "['Buzz Aldrin 1930', 'Yuri Gagarin 1934', 'Valentina Tereshkova 1937']\n"
     ]
    }
   ],
   "source": [
    "astronauts_data = \"Buzz Aldrin, 1930;Yuri Gagarin, 1934;Valentina Tereshkova, 1937\"\n",
    "\n",
    "# Splitting the string into a list of astronaut info and stripping any whitespace\n",
    "astronauts_list = astronauts_data.split(\";\")\n",
    "cleaned_astronauts = []\n",
    "\n",
    "for astronaut in astronauts_list:\n",
    "    name, year = astronaut.split(\",\")\n",
    "    cleaned_astronauts.append(name.strip() + \" \" + year.strip())  # Modify this line to use the join() method\n",
    "\n",
    "print(cleaned_astronauts)  # ['Buzz Aldrin 1930', 'Yuri Gagarin 1934', 'Valentina Tereshkova 1937']"
   ]
  },
  {
   "cell_type": "code",
   "execution_count": 119,
   "metadata": {},
   "outputs": [
    {
     "name": "stdout",
     "output_type": "stream",
     "text": [
      "Name: John Doe\n",
      "Age: 30\n",
      "Role: Engineer\n"
     ]
    }
   ],
   "source": [
    "\n",
    "# A list of employee data\n",
    "employee_data = \"Name: John Doe, Age: 30, Role: Engineer\"\n",
    "\n",
    "employee_info = employee_data.split()\n",
    "\n",
    "# Use strip to clean data and join to create a string with newlines\n",
    "cleaned_data = \"\\n\".join(info.strip() for info in ' '.join(employee_info).split(\",\"))\n",
    "\n",
    "print(cleaned_data)"
   ]
  },
  {
   "cell_type": "code",
   "execution_count": 122,
   "metadata": {},
   "outputs": [
    {
     "data": {
      "text/plain": [
       "['Name:', 'John', 'Doe,', 'Age:', '30,', 'Role:', 'Engineer']"
      ]
     },
     "execution_count": 122,
     "metadata": {},
     "output_type": "execute_result"
    }
   ],
   "source": [
    "employee_info"
   ]
  },
  {
   "cell_type": "code",
   "execution_count": 121,
   "metadata": {},
   "outputs": [
    {
     "data": {
      "text/plain": [
       "['Name: John Doe', ' Age: 30', ' Role: Engineer']"
      ]
     },
     "execution_count": 121,
     "metadata": {},
     "output_type": "execute_result"
    }
   ],
   "source": [
    "' '.join(employee_info).split(\",\")"
   ]
  },
  {
   "cell_type": "code",
   "execution_count": 123,
   "metadata": {},
   "outputs": [],
   "source": [
    "employee_data = \"Alice,Developer,30|Bob,Manager,45|Charlie,Designer,25\"\n",
    "# Splitting the employee data by '|' to separate each employee's info\n",
    "employee_list = employee_data.split('|')"
   ]
  },
  {
   "cell_type": "code",
   "execution_count": 128,
   "metadata": {},
   "outputs": [
    {
     "name": "stdout",
     "output_type": "stream",
     "text": [
      "Alice\n",
      "Bob\n",
      "Charlie\n"
     ]
    }
   ],
   "source": [
    "for employee in employee_list:\n",
    "    print(employee.split(\",\")[0])"
   ]
  },
  {
   "cell_type": "code",
   "execution_count": 129,
   "metadata": {},
   "outputs": [],
   "source": [
    "astronaut_data = \"    Neil-Mars; Buzz-Jupiter; Sally-Venus    \""
   ]
  },
  {
   "cell_type": "code",
   "execution_count": 135,
   "metadata": {},
   "outputs": [
    {
     "name": "stdout",
     "output_type": "stream",
     "text": [
      "['Neil', 'Mars']\n",
      "[' Buzz', 'Jupiter']\n",
      "[' Sally', 'Venus']\n"
     ]
    }
   ],
   "source": [
    "for text in astronaut_data.strip().split(\";\"):\n",
    "    print(text.split(\"-\"))"
   ]
  },
  {
   "cell_type": "code",
   "execution_count": 136,
   "metadata": {},
   "outputs": [],
   "source": [
    "crew_data = \"Neil,Armstrong,Apollo 11,C;Buzz,Aldrin,Apollo 11,P;Michael,Collins,Apollo 11,CM\""
   ]
  },
  {
   "cell_type": "code",
   "execution_count": 145,
   "metadata": {},
   "outputs": [
    {
     "name": "stdout",
     "output_type": "stream",
     "text": [
      "Neil Armstrong Apollo 11 C\n",
      "Buzz Aldrin Apollo 11 P\n",
      "Michael Collins Apollo 11 CM\n"
     ]
    }
   ],
   "source": [
    "for text in crew_data.strip().split(\";\"):\n",
    "    print(' '.join(text.split(\",\")))"
   ]
  },
  {
   "cell_type": "code",
   "execution_count": 148,
   "metadata": {},
   "outputs": [],
   "source": [
    "from math import sqrt"
   ]
  },
  {
   "cell_type": "code",
   "execution_count": 163,
   "metadata": {},
   "outputs": [
    {
     "data": {
      "text/plain": [
       "(2.23606797749979, 2.8284271247461903, 3.0)"
      ]
     },
     "execution_count": 163,
     "metadata": {},
     "output_type": "execute_result"
    }
   ],
   "source": [
    "sqrt(1*5), sqrt(2*4), sqrt(3*3)"
   ]
  },
  {
   "cell_type": "code",
   "execution_count": 234,
   "metadata": {},
   "outputs": [],
   "source": [
    "numbers = [1, 2, 3, 9,10, 15, 30, 42,89, 99 ,100,452, 500]"
   ]
  },
  {
   "cell_type": "code",
   "execution_count": 186,
   "metadata": {},
   "outputs": [
    {
     "data": {
      "text/plain": [
       "[1, 2, 3, 4, 5]"
      ]
     },
     "execution_count": 186,
     "metadata": {},
     "output_type": "execute_result"
    }
   ],
   "source": [
    "numbers"
   ]
  },
  {
   "cell_type": "code",
   "execution_count": 187,
   "metadata": {},
   "outputs": [
    {
     "data": {
      "text/plain": [
       "[5, 4, 3, 2, 1]"
      ]
     },
     "execution_count": 187,
     "metadata": {},
     "output_type": "execute_result"
    }
   ],
   "source": [
    "numbers[::-1]"
   ]
  },
  {
   "cell_type": "code",
   "execution_count": 248,
   "metadata": {},
   "outputs": [],
   "source": [
    "def solution(numbers):\n",
    "    solutions = []\n",
    "    for num in numbers:\n",
    "        if num < 10:\n",
    "            continue\n",
    "        \n",
    "        if (num % 10) != 0:\n",
    "            \n",
    "            use_this = str(num)[::-1]\n",
    "            solutions.append((num, int(use_this)))\n",
    "\n",
    "    return solutions"
   ]
  },
  {
   "cell_type": "code",
   "execution_count": 246,
   "metadata": {},
   "outputs": [],
   "source": [
    "def f(input):\n",
    "    solutions = []\n",
    "    for num in numbers:\n",
    "        if num < 10:\n",
    "            solutions.append((num, num))\n",
    "        \n",
    "        else:\n",
    "            print(str(num)[::-1])\n",
    "            print(f\"First num {str(num)[0]} | Second num: {str(num)[1]}\")\n",
    "            print(f\"Reversing -> First num: {str(num)[::-1][0]} | Second num: {str(num)[::-1][1]}\")\n",
    "\n",
    "            use_this = str(num)[0] if num % 10 == 0 else str(num)[::-1]\n",
    "\n",
    "            print(f\"Changed: {use_this}\")\n",
    "            solutions.append((num, use_this))\n",
    "\n",
    "    return solutions\n"
   ]
  },
  {
   "cell_type": "code",
   "execution_count": 251,
   "metadata": {},
   "outputs": [
    {
     "data": {
      "text/plain": [
       "False"
      ]
     },
     "execution_count": 251,
     "metadata": {},
     "output_type": "execute_result"
    }
   ],
   "source": [
    "10 % 10 != 0"
   ]
  },
  {
   "cell_type": "code",
   "execution_count": null,
   "metadata": {},
   "outputs": [],
   "source": []
  }
 ],
 "metadata": {
  "kernelspec": {
   "display_name": "playground",
   "language": "python",
   "name": "python3"
  },
  "language_info": {
   "codemirror_mode": {
    "name": "ipython",
    "version": 3
   },
   "file_extension": ".py",
   "mimetype": "text/x-python",
   "name": "python",
   "nbconvert_exporter": "python",
   "pygments_lexer": "ipython3",
   "version": "3.11.9"
  }
 },
 "nbformat": 4,
 "nbformat_minor": 2
}
