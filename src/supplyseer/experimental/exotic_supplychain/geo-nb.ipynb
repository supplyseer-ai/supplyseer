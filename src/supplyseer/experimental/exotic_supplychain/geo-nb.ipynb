{
 "cells": [
  {
   "cell_type": "code",
   "execution_count": 1,
   "metadata": {},
   "outputs": [],
   "source": [
    "import os\n",
    "os.chdir(\"D:/my_py_packages/supplyseer\")\n",
    "\n",
    "import numpy as np\n",
    "import matplotlib.pyplot as plt\n",
    "import pandas as pd"
   ]
  },
  {
   "cell_type": "code",
   "execution_count": 2,
   "metadata": {},
   "outputs": [],
   "source": [
    "from src.supplyseer.experimental.exotic_supplychain.geopolitical import *"
   ]
  },
  {
   "cell_type": "code",
   "execution_count": 3,
   "metadata": {},
   "outputs": [
    {
     "name": "stdout",
     "output_type": "stream",
     "text": [
      "Added event: Ukraine-Russia Conflict in Ukraine with risk level critical\n",
      "Added event: Taiwan Strait Tensions in Taiwan with risk level high\n",
      "Added event: Red Sea Shipping Crisis in Red Sea with risk level severe\n"
     ]
    }
   ],
   "source": [
    "risk_module = create_current_conflict_scenario()"
   ]
  },
  {
   "cell_type": "code",
   "execution_count": 4,
   "metadata": {},
   "outputs": [
    {
     "name": "stdout",
     "output_type": "stream",
     "text": [
      "Semiconductor Risk Level: RiskLevel.LOW\n",
      "Affected by conflicts: [{'conflict': 'Taiwan Strait Tensions', 'severity': <RiskLevel.HIGH: 'high'>, 'affected_regions': ['Taiwan', 'South China Sea'], 'sanctions': []}]\n",
      "Alternative sources: []\n",
      "\n",
      "Conflict: Ukraine-Russia Conflict\n",
      "Severity: critical\n",
      "Lead Time Impact: 500.0%\n",
      "Cost Impact: 650.0%\n",
      "\n",
      "Conflict: Taiwan Strait Tensions\n",
      "Severity: high\n",
      "Lead Time Impact: 95.0%\n",
      "Cost Impact: 110.0%\n",
      "\n",
      "Conflict: Red Sea Shipping Crisis\n",
      "Severity: severe\n",
      "Lead Time Impact: 300.0%\n",
      "Cost Impact: 400.0%\n"
     ]
    }
   ],
   "source": [
    "# Test commodity risk analysis\n",
    "semiconductor_risk = risk_module.analyze_commodity_risk(\"semiconductors\")\n",
    "print(f\"Semiconductor Risk Level: {semiconductor_risk.risk_level}\")\n",
    "print(f\"Affected by conflicts: {semiconductor_risk.affected_by_conflicts}\")\n",
    "print(f\"Alternative sources: {semiconductor_risk.alternative_sources}\")\n",
    "\n",
    "# Generate impact report\n",
    "impact_report = risk_module.generate_conflict_impact_report()\n",
    "for report in impact_report:\n",
    "    print(f\"\\nConflict: {report.conflict_name}\")\n",
    "    print(f\"Severity: {report.severity}\")\n",
    "    print(f\"Lead Time Impact: {report.lead_time_impact}\")\n",
    "    print(f\"Cost Impact: {report.cost_impact}\")"
   ]
  },
  {
   "cell_type": "code",
   "execution_count": 5,
   "metadata": {},
   "outputs": [],
   "source": [
    "from src.supplyseer.experimental.exotic_supplychain.gdeltmonitor import *"
   ]
  },
  {
   "cell_type": "code",
   "execution_count": 6,
   "metadata": {},
   "outputs": [],
   "source": [
    "gdelt_monitor = SupplyChainGDELTMonitor()"
   ]
  },
  {
   "cell_type": "code",
   "execution_count": 20,
   "metadata": {},
   "outputs": [],
   "source": [
    "import asyncio\n",
    "\n",
    "risks =  gdelt_monitor.monitor_region_risks(\"Taiwan\", timespan=\"7d\")\n",
    "type(risks)"
   ]
  },
  {
   "cell_type": "code",
   "execution_count": 23,
   "metadata": {},
   "outputs": [
    {
     "data": {
      "text/plain": [
       "coroutine"
      ]
     },
     "execution_count": 23,
     "metadata": {},
     "output_type": "execute_result"
    }
   ],
   "source": [
    "risks =  gdelt_monitor.monitor_region_risks(\"Taiwan\", timespan=\"7d\")\n",
    "type(risks)"
   ]
  },
  {
   "cell_type": "code",
   "execution_count": null,
   "metadata": {},
   "outputs": [],
   "source": []
  }
 ],
 "metadata": {
  "kernelspec": {
   "display_name": "playground",
   "language": "python",
   "name": "python3"
  },
  "language_info": {
   "codemirror_mode": {
    "name": "ipython",
    "version": 3
   },
   "file_extension": ".py",
   "mimetype": "text/x-python",
   "name": "python",
   "nbconvert_exporter": "python",
   "pygments_lexer": "ipython3",
   "version": "3.11.9"
  }
 },
 "nbformat": 4,
 "nbformat_minor": 2
}
