{
 "cells": [
  {
   "cell_type": "markdown",
   "metadata": {},
   "source": [
    "# [EXPERIMENTAL] SupplySeer Geopolitical API\n",
    "\n",
    "This tutorial shows a surface level demonstration of the Geopolitical API (you can use the API locally but not over internet yet). <br>\n",
    "It is using the GDELT Project API to grab global events from news media over the worlds nations in realtime.\n"
   ]
  },
  {
   "cell_type": "code",
   "execution_count": 1,
   "metadata": {},
   "outputs": [],
   "source": [
    "import numpy as np\n",
    "import matplotlib.pyplot as plt\n",
    "import pandas as pd"
   ]
  },
  {
   "cell_type": "code",
   "execution_count": 24,
   "metadata": {},
   "outputs": [],
   "source": [
    "from supplyseer.experimental.exotic_supplychain.geopolitical import (create_current_conflict_scenario, \n",
    "                                                                     EnhancedGeopoliticalRiskModule, \n",
    "                                                                     ConflictZone, ConflictType, ConflictImpactReport, \n",
    "                                                                     RiskCategory, RiskLevel, RiskZone, \n",
    "                                                                     SanctionImpact, GeopoliticalEvent, GeopoliticalRiskModule)\n",
    "\n",
    "from supplyseer.experimental.exotic_supplychain.gdeltmonitor import *"
   ]
  },
  {
   "cell_type": "markdown",
   "metadata": {},
   "source": [
    "### Quick Conflict Scenario\n",
    "This is a predefined conflict scenario that you can just grab with the function below."
   ]
  },
  {
   "cell_type": "code",
   "execution_count": 6,
   "metadata": {},
   "outputs": [
    {
     "name": "stdout",
     "output_type": "stream",
     "text": [
      "Added event: Ukraine-Russia Conflict in Ukraine with risk level critical\n",
      "Added event: Taiwan Strait Tensions in Taiwan with risk level high\n",
      "Added event: Red Sea Shipping Crisis in Red Sea with risk level severe\n"
     ]
    }
   ],
   "source": [
    "risk_module = create_current_conflict_scenario()"
   ]
  },
  {
   "cell_type": "markdown",
   "metadata": {},
   "source": [
    "It also comes with different methods that helps a Supply Chain Analyst"
   ]
  },
  {
   "cell_type": "code",
   "execution_count": 5,
   "metadata": {},
   "outputs": [
    {
     "name": "stdout",
     "output_type": "stream",
     "text": [
      "Semiconductor Risk Level: RiskLevel.HIGH\n",
      "Affected by conflicts: [{'conflict': 'Taiwan Strait Tensions', 'severity': <RiskLevel.HIGH: 'high'>, 'affected_regions': ['Taiwan', 'South China Sea'], 'sanctions': []}]\n",
      "Alternative sources: []\n",
      "\n",
      "Conflict: Ukraine-Russia Conflict\n",
      "Severity: critical\n",
      "Lead Time Impact: 500.0%\n",
      "Cost Impact: 650.0%\n",
      "\n",
      "Conflict: Taiwan Strait Tensions\n",
      "Severity: high\n",
      "Lead Time Impact: 95.0%\n",
      "Cost Impact: 110.0%\n",
      "\n",
      "Conflict: Red Sea Shipping Crisis\n",
      "Severity: severe\n",
      "Lead Time Impact: 300.0%\n",
      "Cost Impact: 400.0%\n"
     ]
    }
   ],
   "source": [
    "# Test commodity risk analysis\n",
    "semiconductor_risk = risk_module.analyze_commodity_risk(\"semiconductors\")\n",
    "print(f\"Semiconductor Risk Level: {semiconductor_risk.risk_level}\")\n",
    "print(f\"Affected by conflicts: {semiconductor_risk.affected_by_conflicts}\")\n",
    "print(f\"Alternative sources: {semiconductor_risk.alternative_sources}\")\n",
    "\n",
    "# Generate impact report\n",
    "impact_report = risk_module.generate_conflict_impact_report()\n",
    "for report in impact_report:\n",
    "    print(f\"\\nConflict: {report.conflict_name}\")\n",
    "    print(f\"Severity: {report.severity}\")\n",
    "    print(f\"Lead Time Impact: {report.lead_time_impact}\")\n",
    "    print(f\"Cost Impact: {report.cost_impact}\")"
   ]
  },
  {
   "cell_type": "code",
   "execution_count": 8,
   "metadata": {},
   "outputs": [
    {
     "data": {
      "text/plain": [
       "RouteRiskAssessment(risk_score=1.0, delay_factor=1.0, cost_factor=1.0, impacted_segments=[], risk_level=<RiskLevel.LOW: 'low'>)"
      ]
     },
     "execution_count": 8,
     "metadata": {},
     "output_type": "execute_result"
    }
   ],
   "source": [
    "risk_module.calculate_route_risk(\n",
    "    origin=\"Shanghai\",\n",
    "    destination=\"Rotterdam\",\n",
    "    route_waypoints=[\n",
    "        \"Singapore\",\n",
    "        \"Suez Canal\",\n",
    "        \"Mediterranean\"\n",
    "    ],\n",
    "    date=datetime(2024, 2, 1)\n",
    ")"
   ]
  },
  {
   "cell_type": "markdown",
   "metadata": {},
   "source": [
    "### Designing your own Geopolitical Risk model  \n",
    "Your model should be empty from the beginning when instantiating it"
   ]
  },
  {
   "cell_type": "code",
   "execution_count": 43,
   "metadata": {},
   "outputs": [
    {
     "data": {
      "text/plain": [
       "([], {}, [])"
      ]
     },
     "execution_count": 43,
     "metadata": {},
     "output_type": "execute_result"
    }
   ],
   "source": [
    "risk_module = EnhancedGeopoliticalRiskModule()\n",
    "risk_module.active_events, risk_module.sanctions_registry, risk_module.conflict_zones"
   ]
  },
  {
   "cell_type": "markdown",
   "metadata": {},
   "source": [
    "**Explore the parts of the module**"
   ]
  },
  {
   "cell_type": "code",
   "execution_count": 23,
   "metadata": {},
   "outputs": [
    {
     "data": {
      "text/plain": [
       "<RiskLevel.SEVERE: 'severe'>"
      ]
     },
     "execution_count": 23,
     "metadata": {},
     "output_type": "execute_result"
    }
   ],
   "source": [
    "# Conflict types\n",
    "\n",
    "ConflictType.ARMED_CONFLICT\n",
    "ConflictType.CIVIL_UNREST\n",
    "ConflictType.ECONOMIC_WARFARE\n",
    "ConflictType.TERRITORIAL_DISPUTE \n",
    "ConflictType.TRADE_SANCTIONS\n",
    "\n",
    "# Risk categories\n",
    "RiskCategory.ECONOMIC\n",
    "RiskCategory.POLITICAL\n",
    "RiskCategory.REGULATORY\n",
    "RiskCategory.SECURITY\n",
    "RiskCategory.TRADE\n",
    "\n",
    "# Risk level\n",
    "RiskLevel.CRITICAL\n",
    "RiskLevel.HIGH\n",
    "RiskLevel.MEDIUM\n",
    "RiskLevel.LOW\n",
    "RiskLevel.SEVERE\n"
   ]
  },
  {
   "cell_type": "code",
   "execution_count": 28,
   "metadata": {},
   "outputs": [
    {
     "data": {
      "text/plain": [
       "SanctionImpact(restricted_items=['technology', 'industrial equipment', 'luxury goods'], alternative_sources=['EU', 'USA', 'Japan'], cost_increase_factor=1.8, lead_time_increase=45, reliability_decrease=0.4)"
      ]
     },
     "execution_count": 28,
     "metadata": {},
     "output_type": "execute_result"
    }
   ],
   "source": [
    "# Sanctions\n",
    "SanctionImpact(\n",
    "    restricted_items=[\"technology\", \"industrial equipment\", \"luxury goods\"],    # Items restricted because of the conflict\n",
    "    alternative_sources=[\"EU\", \"USA\", \"Japan\"],         # Other sources to get the items from\n",
    "    cost_increase_factor=1.8,           # Increase in costs by a certain factor\n",
    "    lead_time_increase=45,              # Lead time is affected by the conflict\n",
    "    reliability_decrease=0.4            # Decrease in reliability, inactive as of now\n",
    ")"
   ]
  },
  {
   "cell_type": "markdown",
   "metadata": {},
   "source": [
    "#### Add your own conflict zones"
   ]
  },
  {
   "cell_type": "code",
   "execution_count": 44,
   "metadata": {},
   "outputs": [],
   "source": [
    "ukraine_conflict = ConflictZone(\n",
    "    name=\"Ukraine-Russia Conflict\", # Name the conflict\n",
    "    conflict_type=ConflictType.ARMED_CONFLICT,  # Define the conflict type\n",
    "    affected_regions=[\"Ukraine\", \"Russia\", \"Belarus\"],  # Add regions affected by the conflict\n",
    "    start_date=datetime(2022, 2, 24),       # Starting date\n",
    "    severity=RiskLevel.CRITICAL,            # Define the risk level\n",
    "    displaced_population=8000000,           # Population displaced from the affected regions\n",
    "    strategic_commodities=[\"grain\", \"metals\", \"energy\", \"fertilizers\"], # Commodities under risk\n",
    "    sanctions=[             # Define the sanctions and their impact\n",
    "        SanctionImpact(\n",
    "            restricted_items=[\"technology\", \"industrial equipment\", \"grain\", \"luxury goods\"],\n",
    "            alternative_sources=[\"EU\", \"USA\", \"Japan\"],\n",
    "            cost_increase_factor=1.8,\n",
    "            lead_time_increase=45,\n",
    "            reliability_decrease=0.4\n",
    "        )\n",
    "    ]\n",
    ")"
   ]
  },
  {
   "cell_type": "code",
   "execution_count": 45,
   "metadata": {},
   "outputs": [
    {
     "data": {
      "text/plain": [
       "(['Ukraine', 'Russia', 'Belarus'],\n",
       " <ConflictType.ARMED_CONFLICT: 'armed_conflict'>,\n",
       " [SanctionImpact(restricted_items=['technology', 'industrial equipment', 'grain', 'luxury goods'], alternative_sources=['EU', 'USA', 'Japan'], cost_increase_factor=1.8, lead_time_increase=45, reliability_decrease=0.4)])"
      ]
     },
     "execution_count": 45,
     "metadata": {},
     "output_type": "execute_result"
    }
   ],
   "source": [
    "ukraine_conflict.affected_regions, ukraine_conflict.conflict_type, ukraine_conflict.sanctions"
   ]
  },
  {
   "cell_type": "code",
   "execution_count": 46,
   "metadata": {},
   "outputs": [
    {
     "name": "stdout",
     "output_type": "stream",
     "text": [
      "Added event: Ukraine-Russia Conflict in Ukraine with risk level critical\n",
      "Added event: Taiwan Strait Tensions in Taiwan with risk level high\n"
     ]
    }
   ],
   "source": [
    "taiwan_tension = ConflictZone(\n",
    "    name=\"Taiwan Strait Tensions\",\n",
    "    conflict_type=ConflictType.TERRITORIAL_DISPUTE,\n",
    "    affected_regions=[\"Taiwan\", \"South China Sea\"],\n",
    "    start_date=datetime(2024, 1, 1),\n",
    "    severity=RiskLevel.HIGH,\n",
    "    strategic_commodities=[\"semiconductors\", \"electronics\", \"computer chips\"],\n",
    "    sanctions=[\n",
    "        SanctionImpact(\n",
    "            restricted_items=[\"advanced semiconductors\", \"chip manufacturing equipment\"],\n",
    "            alternative_sources=[\"South Korea\", \"Japan\", \"USA\"],\n",
    "            cost_increase_factor=1.5,\n",
    "            lead_time_increase=30,\n",
    "            reliability_decrease=0.3\n",
    "        )\n",
    "    ]\n",
    ")\n",
    "\n",
    "risk_module.add_conflict_zone(ukraine_conflict)\n",
    "risk_module.add_conflict_zone(taiwan_tension)"
   ]
  },
  {
   "cell_type": "markdown",
   "metadata": {},
   "source": [
    "### Generate an impact report\n",
    "\n",
    "**Alternative sources for sanctioned commodities** <br>\n",
    "You are Sweden and you buy grains from Russia, Belarus, and Ukraine before the conflict. <br>\n",
    "Suddenly, you don't know what to do because grains are under sanctions but you need to provide alternative sources.\n",
    "<br>\n",
    "<br>\n",
    "At the same time, you need to know the impact on lead time and costs."
   ]
  },
  {
   "cell_type": "code",
   "execution_count": 65,
   "metadata": {},
   "outputs": [
    {
     "name": "stdout",
     "output_type": "stream",
     "text": [
      "Semiconductor Risk Level: RiskLevel.CRITICAL\n",
      "Affected by conflicts:\n",
      "[{'conflict': 'Ukraine-Russia Conflict', 'severity': <RiskLevel.CRITICAL: 'critical'>, 'affected_regions': ['Ukraine', 'Russia', 'Belarus'], 'sanctions': [['technology', 'industrial equipment', 'grain', 'luxury goods']]}]\n",
      "Alternative sources: ['USA', 'Japan', 'EU']\n",
      "\n",
      "Conflict: Ukraine-Russia Conflict\n",
      "Severity: critical\n",
      "Lead Time Impact: 500.0%\n",
      "Cost Impact: 650.0%\n",
      "\n",
      "Conflict: Taiwan Strait Tensions\n",
      "Severity: high\n",
      "Lead Time Impact: 95.0%\n",
      "Cost Impact: 110.0%\n"
     ]
    }
   ],
   "source": [
    "# Test commodity risk analysis\n",
    "semiconductor_risk = risk_module.analyze_commodity_risk(\"grain\")\n",
    "print(f\"Semiconductor Risk Level: {semiconductor_risk.risk_level}\")\n",
    "print(f\"Affected by conflicts:\\n{semiconductor_risk.affected_by_conflicts}\")\n",
    "print(f\"Alternative sources: {semiconductor_risk.alternative_sources}\")\n",
    "\n",
    "# Generate impact report\n",
    "impact_report = risk_module.generate_conflict_impact_report()\n",
    "for report in impact_report:\n",
    "    print(f\"\\nConflict: {report.conflict_name}\")\n",
    "    print(f\"Severity: {report.severity}\")\n",
    "    print(f\"Lead Time Impact: {report.lead_time_impact}\")\n",
    "    print(f\"Cost Impact: {report.cost_impact}\")"
   ]
  },
  {
   "cell_type": "markdown",
   "metadata": {},
   "source": [
    "## GDELT Project API - Global Supply Chain Risk Monitor\n",
    "\n",
    "This part shows the GDELT Monitor module that lets you query in realtime for media coverage globally. <br>\n",
    "We will also demonstrate what to do with the data we receive, namely natural language understanding by using <br>\n",
    "sentiment analysis models from HuggingFace.\n"
   ]
  },
  {
   "cell_type": "code",
   "execution_count": 66,
   "metadata": {},
   "outputs": [],
   "source": [
    "gdelt_monitor = SupplyChainGDELTMonitor()"
   ]
  },
  {
   "cell_type": "code",
   "execution_count": 67,
   "metadata": {},
   "outputs": [],
   "source": [
    "# This is the preferred way in Jupyter notebooks\n",
    "async def get_risks():\n",
    "    async with SupplyChainGDELTMonitor() as gdelt_monitor:\n",
    "        risks = await gdelt_monitor.monitor_region_risks(\"sweden\", timespan=\"7d\")\n",
    "        return risks"
   ]
  },
  {
   "cell_type": "code",
   "execution_count": 68,
   "metadata": {},
   "outputs": [
    {
     "data": {
      "text/html": [
       "<div>\n",
       "<style scoped>\n",
       "    .dataframe tbody tr th:only-of-type {\n",
       "        vertical-align: middle;\n",
       "    }\n",
       "\n",
       "    .dataframe tbody tr th {\n",
       "        vertical-align: top;\n",
       "    }\n",
       "\n",
       "    .dataframe thead th {\n",
       "        text-align: right;\n",
       "    }\n",
       "</style>\n",
       "<table border=\"1\" class=\"dataframe\">\n",
       "  <thead>\n",
       "    <tr style=\"text-align: right;\">\n",
       "      <th></th>\n",
       "      <th>supply_disruption</th>\n",
       "      <th>geopolitical</th>\n",
       "      <th>infrastructure</th>\n",
       "      <th>trade_restrictions</th>\n",
       "      <th>natural_disasters</th>\n",
       "    </tr>\n",
       "  </thead>\n",
       "  <tbody>\n",
       "    <tr>\n",
       "      <th>0</th>\n",
       "      <td>[{'title': 'Dutch health minister admits that ...</td>\n",
       "      <td>[{'title': 'Germany AfD Urges UN to Investigat...</td>\n",
       "      <td>[]</td>\n",
       "      <td>[]</td>\n",
       "      <td>[]</td>\n",
       "    </tr>\n",
       "  </tbody>\n",
       "</table>\n",
       "</div>"
      ],
      "text/plain": [
       "                                   supply_disruption   \n",
       "0  [{'title': 'Dutch health minister admits that ...  \\\n",
       "\n",
       "                                        geopolitical infrastructure   \n",
       "0  [{'title': 'Germany AfD Urges UN to Investigat...             []  \\\n",
       "\n",
       "  trade_restrictions natural_disasters  \n",
       "0                 []                []  "
      ]
     },
     "execution_count": 68,
     "metadata": {},
     "output_type": "execute_result"
    }
   ],
   "source": [
    "# Then run it with await\n",
    "risks = await get_risks()\n",
    "pd.json_normalize(risks)"
   ]
  },
  {
   "cell_type": "code",
   "execution_count": 69,
   "metadata": {},
   "outputs": [],
   "source": [
    "output = pd.json_normalize(risks, record_path=\"geopolitical\")"
   ]
  },
  {
   "cell_type": "code",
   "execution_count": 70,
   "metadata": {},
   "outputs": [
    {
     "data": {
      "text/html": [
       "<div>\n",
       "<style scoped>\n",
       "    .dataframe tbody tr th:only-of-type {\n",
       "        vertical-align: middle;\n",
       "    }\n",
       "\n",
       "    .dataframe tbody tr th {\n",
       "        vertical-align: top;\n",
       "    }\n",
       "\n",
       "    .dataframe thead th {\n",
       "        text-align: right;\n",
       "    }\n",
       "</style>\n",
       "<table border=\"1\" class=\"dataframe\">\n",
       "  <thead>\n",
       "    <tr style=\"text-align: right;\">\n",
       "      <th></th>\n",
       "      <th>title</th>\n",
       "      <th>url</th>\n",
       "      <th>source_country</th>\n",
       "      <th>tone</th>\n",
       "      <th>date</th>\n",
       "      <th>themes</th>\n",
       "    </tr>\n",
       "  </thead>\n",
       "  <tbody>\n",
       "    <tr>\n",
       "      <th>0</th>\n",
       "      <td>Germany AfD Urges UN to Investigate Nord Strea...</td>\n",
       "      <td>https://sputnikglobe.com/20241115/german-afd-u...</td>\n",
       "      <td></td>\n",
       "      <td>0.0</td>\n",
       "      <td>20241115T121500Z</td>\n",
       "      <td>[]</td>\n",
       "    </tr>\n",
       "    <tr>\n",
       "      <th>1</th>\n",
       "      <td>Canada opens path to permanent residency for P...</td>\n",
       "      <td>https://www.piquenewsmagazine.com/must-reads/c...</td>\n",
       "      <td>Canada</td>\n",
       "      <td>0.0</td>\n",
       "      <td>20241115T061500Z</td>\n",
       "      <td>[]</td>\n",
       "    </tr>\n",
       "    <tr>\n",
       "      <th>2</th>\n",
       "      <td>Canada opens path to permanent residency for P...</td>\n",
       "      <td>https://www.delta-optimist.com/highlights/cana...</td>\n",
       "      <td>Canada</td>\n",
       "      <td>0.0</td>\n",
       "      <td>20241115T044500Z</td>\n",
       "      <td>[]</td>\n",
       "    </tr>\n",
       "    <tr>\n",
       "      <th>3</th>\n",
       "      <td>Canada opens path to permanent residency for P...</td>\n",
       "      <td>https://www.squamishchief.com/highlights/canad...</td>\n",
       "      <td>Canada</td>\n",
       "      <td>0.0</td>\n",
       "      <td>20241115T043000Z</td>\n",
       "      <td>[]</td>\n",
       "    </tr>\n",
       "    <tr>\n",
       "      <th>4</th>\n",
       "      <td>Canada opens path to permanent residency for P...</td>\n",
       "      <td>https://www.burnabynow.com/highlights/canada-o...</td>\n",
       "      <td>Canada</td>\n",
       "      <td>0.0</td>\n",
       "      <td>20241115T041500Z</td>\n",
       "      <td>[]</td>\n",
       "    </tr>\n",
       "    <tr>\n",
       "      <th>5</th>\n",
       "      <td>Canada opens path to permanent residency for P...</td>\n",
       "      <td>https://www.bowenislandundercurrent.com/highli...</td>\n",
       "      <td>Canada</td>\n",
       "      <td>0.0</td>\n",
       "      <td>20241115T040000Z</td>\n",
       "      <td>[]</td>\n",
       "    </tr>\n",
       "    <tr>\n",
       "      <th>6</th>\n",
       "      <td>The Day of the Jackal Recap Premiere Episode 1...</td>\n",
       "      <td>https://tvline.com/recaps/the-day-of-the-jacka...</td>\n",
       "      <td>United States</td>\n",
       "      <td>0.0</td>\n",
       "      <td>20241115T034500Z</td>\n",
       "      <td>[]</td>\n",
       "    </tr>\n",
       "    <tr>\n",
       "      <th>7</th>\n",
       "      <td>Canada opens path to permanent residency for P...</td>\n",
       "      <td>https://www.tricitynews.com/highlights/canada-...</td>\n",
       "      <td>Canada</td>\n",
       "      <td>0.0</td>\n",
       "      <td>20241115T033000Z</td>\n",
       "      <td>[]</td>\n",
       "    </tr>\n",
       "    <tr>\n",
       "      <th>8</th>\n",
       "      <td>Canada opens path to permanent residency for P...</td>\n",
       "      <td>https://www.richmond-news.com/highlights/canad...</td>\n",
       "      <td>Canada</td>\n",
       "      <td>0.0</td>\n",
       "      <td>20241115T030000Z</td>\n",
       "      <td>[]</td>\n",
       "    </tr>\n",
       "    <tr>\n",
       "      <th>9</th>\n",
       "      <td>Norway lowers terror threat level as Iran thre...</td>\n",
       "      <td>https://thefrontierpost.com/norway-lowers-terr...</td>\n",
       "      <td>Pakistan</td>\n",
       "      <td>0.0</td>\n",
       "      <td>20241114T183000Z</td>\n",
       "      <td>[]</td>\n",
       "    </tr>\n",
       "    <tr>\n",
       "      <th>10</th>\n",
       "      <td>How the EU should tackle the housing crisis</td>\n",
       "      <td>https://www.epc.eu/en/Publications/How-the-EU-...</td>\n",
       "      <td>Belgium</td>\n",
       "      <td>0.0</td>\n",
       "      <td>20241114T170000Z</td>\n",
       "      <td>[]</td>\n",
       "    </tr>\n",
       "    <tr>\n",
       "      <th>11</th>\n",
       "      <td>Norway lowers terror threat level to  moderate</td>\n",
       "      <td>https://www.thelocal.no/20241114/norway-lowers...</td>\n",
       "      <td>Norway</td>\n",
       "      <td>0.0</td>\n",
       "      <td>20241114T134500Z</td>\n",
       "      <td>[]</td>\n",
       "    </tr>\n",
       "    <tr>\n",
       "      <th>12</th>\n",
       "      <td>How the EU should tackle the housing crisis</td>\n",
       "      <td>https://www.socialeurope.eu/how-the-eu-should-...</td>\n",
       "      <td>United Kingdom</td>\n",
       "      <td>0.0</td>\n",
       "      <td>20241114T131500Z</td>\n",
       "      <td>[]</td>\n",
       "    </tr>\n",
       "    <tr>\n",
       "      <th>13</th>\n",
       "      <td>South Africa : Is South Africa One of the Most...</td>\n",
       "      <td>https://allafrica.com/stories/202411140017.html</td>\n",
       "      <td>Nigeria</td>\n",
       "      <td>0.0</td>\n",
       "      <td>20241114T051500Z</td>\n",
       "      <td>[]</td>\n",
       "    </tr>\n",
       "    <tr>\n",
       "      <th>14</th>\n",
       "      <td>Today in Sweden : A roundup of the latest news...</td>\n",
       "      <td>https://www.thelocal.se/20241113/today-in-swed...</td>\n",
       "      <td>Sweden</td>\n",
       "      <td>0.0</td>\n",
       "      <td>20241113T170000Z</td>\n",
       "      <td>[]</td>\n",
       "    </tr>\n",
       "    <tr>\n",
       "      <th>15</th>\n",
       "      <td>Enlight Renewable Energy Reports Third Quarter...</td>\n",
       "      <td>https://www.manilatimes.net/2024/11/13/tmt-new...</td>\n",
       "      <td>Philippines</td>\n",
       "      <td>0.0</td>\n",
       "      <td>20241113T121500Z</td>\n",
       "      <td>[]</td>\n",
       "    </tr>\n",
       "    <tr>\n",
       "      <th>16</th>\n",
       "      <td>Western ideals have collapsed</td>\n",
       "      <td>https://demokrata.hu/english/western-ideals-ha...</td>\n",
       "      <td>Hungary</td>\n",
       "      <td>0.0</td>\n",
       "      <td>20241113T111500Z</td>\n",
       "      <td>[]</td>\n",
       "    </tr>\n",
       "    <tr>\n",
       "      <th>17</th>\n",
       "      <td>In confirmation hearing , incoming EU foreign ...</td>\n",
       "      <td>https://www.eureporter.co/world/iran/2024/11/1...</td>\n",
       "      <td>United Kingdom</td>\n",
       "      <td>0.0</td>\n",
       "      <td>20241113T103000Z</td>\n",
       "      <td>[]</td>\n",
       "    </tr>\n",
       "    <tr>\n",
       "      <th>18</th>\n",
       "      <td>9 quotes by Elder Renlund on his 72nd birthday</td>\n",
       "      <td>https://www.thechurchnews.com/leaders/2024/11/...</td>\n",
       "      <td></td>\n",
       "      <td>0.0</td>\n",
       "      <td>20241113T080000Z</td>\n",
       "      <td>[]</td>\n",
       "    </tr>\n",
       "    <tr>\n",
       "      <th>19</th>\n",
       "      <td>Iran News in Brief – November 13 , 2024</td>\n",
       "      <td>https://www.ncr-iran.org/en/news/iran-news-in-...</td>\n",
       "      <td>Iran</td>\n",
       "      <td>0.0</td>\n",
       "      <td>20241113T074500Z</td>\n",
       "      <td>[]</td>\n",
       "    </tr>\n",
       "  </tbody>\n",
       "</table>\n",
       "</div>"
      ],
      "text/plain": [
       "                                                title   \n",
       "0   Germany AfD Urges UN to Investigate Nord Strea...  \\\n",
       "1   Canada opens path to permanent residency for P...   \n",
       "2   Canada opens path to permanent residency for P...   \n",
       "3   Canada opens path to permanent residency for P...   \n",
       "4   Canada opens path to permanent residency for P...   \n",
       "5   Canada opens path to permanent residency for P...   \n",
       "6   The Day of the Jackal Recap Premiere Episode 1...   \n",
       "7   Canada opens path to permanent residency for P...   \n",
       "8   Canada opens path to permanent residency for P...   \n",
       "9   Norway lowers terror threat level as Iran thre...   \n",
       "10        How the EU should tackle the housing crisis   \n",
       "11   Norway lowers terror threat level to  moderate     \n",
       "12        How the EU should tackle the housing crisis   \n",
       "13  South Africa : Is South Africa One of the Most...   \n",
       "14  Today in Sweden : A roundup of the latest news...   \n",
       "15  Enlight Renewable Energy Reports Third Quarter...   \n",
       "16                      Western ideals have collapsed   \n",
       "17  In confirmation hearing , incoming EU foreign ...   \n",
       "18     9 quotes by Elder Renlund on his 72nd birthday   \n",
       "19            Iran News in Brief – November 13 , 2024   \n",
       "\n",
       "                                                  url  source_country  tone   \n",
       "0   https://sputnikglobe.com/20241115/german-afd-u...                   0.0  \\\n",
       "1   https://www.piquenewsmagazine.com/must-reads/c...          Canada   0.0   \n",
       "2   https://www.delta-optimist.com/highlights/cana...          Canada   0.0   \n",
       "3   https://www.squamishchief.com/highlights/canad...          Canada   0.0   \n",
       "4   https://www.burnabynow.com/highlights/canada-o...          Canada   0.0   \n",
       "5   https://www.bowenislandundercurrent.com/highli...          Canada   0.0   \n",
       "6   https://tvline.com/recaps/the-day-of-the-jacka...   United States   0.0   \n",
       "7   https://www.tricitynews.com/highlights/canada-...          Canada   0.0   \n",
       "8   https://www.richmond-news.com/highlights/canad...          Canada   0.0   \n",
       "9   https://thefrontierpost.com/norway-lowers-terr...        Pakistan   0.0   \n",
       "10  https://www.epc.eu/en/Publications/How-the-EU-...         Belgium   0.0   \n",
       "11  https://www.thelocal.no/20241114/norway-lowers...          Norway   0.0   \n",
       "12  https://www.socialeurope.eu/how-the-eu-should-...  United Kingdom   0.0   \n",
       "13    https://allafrica.com/stories/202411140017.html         Nigeria   0.0   \n",
       "14  https://www.thelocal.se/20241113/today-in-swed...          Sweden   0.0   \n",
       "15  https://www.manilatimes.net/2024/11/13/tmt-new...     Philippines   0.0   \n",
       "16  https://demokrata.hu/english/western-ideals-ha...         Hungary   0.0   \n",
       "17  https://www.eureporter.co/world/iran/2024/11/1...  United Kingdom   0.0   \n",
       "18  https://www.thechurchnews.com/leaders/2024/11/...                   0.0   \n",
       "19  https://www.ncr-iran.org/en/news/iran-news-in-...            Iran   0.0   \n",
       "\n",
       "                date themes  \n",
       "0   20241115T121500Z     []  \n",
       "1   20241115T061500Z     []  \n",
       "2   20241115T044500Z     []  \n",
       "3   20241115T043000Z     []  \n",
       "4   20241115T041500Z     []  \n",
       "5   20241115T040000Z     []  \n",
       "6   20241115T034500Z     []  \n",
       "7   20241115T033000Z     []  \n",
       "8   20241115T030000Z     []  \n",
       "9   20241114T183000Z     []  \n",
       "10  20241114T170000Z     []  \n",
       "11  20241114T134500Z     []  \n",
       "12  20241114T131500Z     []  \n",
       "13  20241114T051500Z     []  \n",
       "14  20241113T170000Z     []  \n",
       "15  20241113T121500Z     []  \n",
       "16  20241113T111500Z     []  \n",
       "17  20241113T103000Z     []  \n",
       "18  20241113T080000Z     []  \n",
       "19  20241113T074500Z     []  "
      ]
     },
     "execution_count": 70,
     "metadata": {},
     "output_type": "execute_result"
    }
   ],
   "source": [
    "output.head(20)"
   ]
  },
  {
   "cell_type": "markdown",
   "metadata": {},
   "source": [
    "### [OPTIONAL] Natural Language Understanding\n"
   ]
  },
  {
   "cell_type": "code",
   "execution_count": null,
   "metadata": {},
   "outputs": [
    {
     "name": "stderr",
     "output_type": "stream",
     "text": [
      "No model was supplied, defaulted to distilbert/distilbert-base-uncased-finetuned-sst-2-english and revision af0f99b (https://huggingface.co/distilbert/distilbert-base-uncased-finetuned-sst-2-english).\n",
      "Using a pipeline without specifying a model name and revision in production is not recommended.\n"
     ]
    }
   ],
   "source": [
    "# !pip install transformers # Uncomment this\n",
    "from transformers import pipeline\n",
    "sentiment_pipeline = pipeline(\"sentiment-analysis\", device=\"cuda\") # Remove device argument if you dont have a GPU"
   ]
  },
  {
   "cell_type": "markdown",
   "metadata": {},
   "source": [
    "**Put titles and origins in list format**"
   ]
  },
  {
   "cell_type": "code",
   "execution_count": 72,
   "metadata": {},
   "outputs": [],
   "source": [
    "titles = output.title.to_list()\n",
    "origins = output[\"source_country\"].to_list()"
   ]
  },
  {
   "cell_type": "markdown",
   "metadata": {},
   "source": [
    "### Sentiment Analysis"
   ]
  },
  {
   "cell_type": "code",
   "execution_count": 77,
   "metadata": {},
   "outputs": [
    {
     "name": "stdout",
     "output_type": "stream",
     "text": [
      "Origin country: United States\n",
      "Title: 'Trump and the  sick man  of Europe' \n",
      "97.97% positive\n",
      "------------------------------\n",
      "Origin country: Israel\n",
      "Title: 'At the table with Jeremy Berkovits : The face of American Colony Hotel - Israel News' \n",
      "99.78% positive\n",
      "------------------------------\n",
      "Origin country: Bangladesh\n",
      "Title: 'Trump second term and the future of Turkish - US relations' \n",
      "99.64% positive\n",
      "------------------------------\n",
      "Origin country: Pakistan\n",
      "Title: 'Trump election win casts scrutiny on Biden - Harris foreign policy legacy' \n",
      "86.12% negative\n",
      "------------------------------\n",
      "Origin country: \n",
      "Title: 'German President Loses Cool Over Criticism of His Stance on NATO , Nord Stream' \n",
      "99.97% negative\n",
      "------------------------------\n",
      "Origin country: Turkey\n",
      "Title: 'Biden foreign policy legacy faces scrutiny after Trump 2024 victory' \n",
      "98.18% negative\n",
      "------------------------------\n",
      "Origin country: United States\n",
      "Title: 'Sweden Sentences Quran Burning Activist Rasmus Paludan to Jail' \n",
      "97.97% negative\n",
      "------------------------------\n"
     ]
    }
   ],
   "source": [
    "for title, origin in zip(titles[35:42], origins[35:42]):\n",
    "    sentiment = sentiment_pipeline(title)[0][\"label\"].lower()\n",
    "    score = sentiment_pipeline(title)[0][\"score\"]*100\n",
    "    score = round(score, 2)\n",
    "\n",
    "    print(f\"Origin country: {origin}\")\n",
    "    print(f\"Title: '{title}' \\n{score}% {sentiment}\")\n",
    "    print(\"---\"*10)"
   ]
  }
 ],
 "metadata": {
  "kernelspec": {
   "display_name": "geminicomp",
   "language": "python",
   "name": "python3"
  },
  "language_info": {
   "codemirror_mode": {
    "name": "ipython",
    "version": 3
   },
   "file_extension": ".py",
   "mimetype": "text/x-python",
   "name": "python",
   "nbconvert_exporter": "python",
   "pygments_lexer": "ipython3",
   "version": "3.11.9"
  }
 },
 "nbformat": 4,
 "nbformat_minor": 2
}
