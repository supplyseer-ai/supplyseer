{
 "cells": [
  {
   "cell_type": "markdown",
   "metadata": {},
   "source": [
    "# Truck Driver Routing Scheduling\n",
    "\n",
    "This is a rephrasing of the nurse scheduling problem from Google OR Tools.\n",
    "<br>\n",
    "#### The problem\n",
    "A logistics company needs to schedule four truck drivers for deliveries over a three-day period. <br>\n",
    "Each day is split into three main delivery windows (morning, afternoon, evening). <br>\n",
    "Every delivery window must be covered by one driver, and no driver can cover more than one window per day. <br>\n",
    "To maintain work-life balance, each driver must be assigned to at least two delivery windows over the three days.\n",
    "<br> __________________________________________________________________________________________\n",
    "<br>\n",
    "<br>\n",
    "<b> We add a new constraint which is more realistic </b>\n",
    "<br>\n",
    "A human truck driver cannot work in the morning the day after if they had the evening shift the day before. <br>\n",
    "In some countries this is both illegal according to law or labour unions forbids it."
   ]
  },
  {
   "cell_type": "code",
   "execution_count": 13,
   "metadata": {},
   "outputs": [],
   "source": [
    "from ortools.sat.python import cp_model"
   ]
  },
  {
   "cell_type": "code",
   "execution_count": 2,
   "metadata": {},
   "outputs": [],
   "source": [
    "num_drivers = 4\n",
    "num_windows = 3\n",
    "num_days = 3\n",
    "all_drivers = range(num_drivers)\n",
    "all_windows = range(num_windows)\n",
    "all_days = range(num_days)\n",
    "\n",
    "model = cp_model.CpModel()"
   ]
  },
  {
   "cell_type": "code",
   "execution_count": 3,
   "metadata": {},
   "outputs": [],
   "source": [
    "# Create boolean variables for assignments\n",
    "assignments = {}\n",
    "for d in all_drivers:\n",
    "    for day in all_days:\n",
    "        for w in all_windows:\n",
    "            assignments[(d, day, w)] = model.new_bool_var(f\"assignment_d{d}_day{day}_w{w}\")\n"
   ]
  },
  {
   "cell_type": "code",
   "execution_count": 4,
   "metadata": {},
   "outputs": [],
   "source": [
    "# Constraint: Each delivery window must be covered by one driver\n",
    "for day in all_days:\n",
    "    for w in all_windows:\n",
    "        model.add_exactly_one(assignments[(d, day, w)] for d in all_drivers)\n"
   ]
  },
  {
   "cell_type": "code",
   "execution_count": 5,
   "metadata": {},
   "outputs": [],
   "source": [
    "# Constraint: No driver can cover more than one window per day\n",
    "for d in all_drivers:\n",
    "    for day in all_days:\n",
    "        model.add_at_most_one(assignments[(d, day, w)] for w in all_windows)\n"
   ]
  },
  {
   "cell_type": "code",
   "execution_count": 6,
   "metadata": {},
   "outputs": [],
   "source": [
    "# Constraint: Each driver must be assigned at least two delivery windows over the three days\n",
    "min_windows_per_driver = (num_windows * num_days) // num_drivers\n",
    "if num_windows * num_days % num_drivers == 0:\n",
    "    max_windows_per_driver = min_windows_per_driver\n",
    "else:\n",
    "    max_windows_per_driver = min_windows_per_driver + 1\n"
   ]
  },
  {
   "cell_type": "code",
   "execution_count": 7,
   "metadata": {},
   "outputs": [],
   "source": [
    "for d in all_drivers:\n",
    "    windows_worked = []\n",
    "    for day in all_days:\n",
    "        for w in all_windows:\n",
    "            windows_worked.append(assignments[(d, day, w)])\n",
    "    model.add(min_windows_per_driver <= sum(windows_worked))\n",
    "    model.add(sum(windows_worked) <= max_windows_per_driver)\n"
   ]
  },
  {
   "cell_type": "code",
   "execution_count": 8,
   "metadata": {},
   "outputs": [],
   "source": [
    "# New constraint: If a driver had window 2 on day t-1, they cannot have window 0 on day t\n",
    "for d in all_drivers:\n",
    "    for day in range(1, num_days):\n",
    "        model.add(assignments[(d, day-1, 2)] + assignments[(d, day, 0)] <= 1)\n"
   ]
  },
  {
   "cell_type": "code",
   "execution_count": 9,
   "metadata": {},
   "outputs": [],
   "source": [
    "solver = cp_model.CpSolver()\n",
    "solver.parameters.linearization_level = 0\n",
    "solver.parameters.enumerate_all_solutions = True\n"
   ]
  },
  {
   "cell_type": "code",
   "execution_count": 10,
   "metadata": {},
   "outputs": [],
   "source": [
    "class DriverSchedulePrinter(cp_model.CpSolverSolutionCallback):\n",
    "    \"\"\"Print intermediate solutions.\"\"\"\n",
    "\n",
    "    def __init__(self, assignments, num_drivers, num_days, num_windows, limit):\n",
    "        cp_model.CpSolverSolutionCallback.__init__(self)\n",
    "        self._assignments = assignments\n",
    "        self._num_drivers = num_drivers\n",
    "        self._num_days = num_days\n",
    "        self._num_windows = num_windows\n",
    "        self._solution_count = 0\n",
    "        self._solution_limit = limit\n",
    "\n",
    "    def on_solution_callback(self):\n",
    "        self._solution_count += 1\n",
    "        print(f\"Solution {self._solution_count}\")\n",
    "        for day in range(self._num_days):\n",
    "            print(f\"Day {day}\")\n",
    "            for d in range(self._num_drivers):\n",
    "                is_working = False\n",
    "                for w in range(self._num_windows):\n",
    "                    if self.value(self._assignments[(d, day, w)]):\n",
    "                        is_working = True\n",
    "                        print(f\"  Driver {d} covers delivery window {w}\")\n",
    "                if not is_working:\n",
    "                    print(f\"  Driver {d} is off duty\")\n",
    "        if self._solution_count >= self._solution_limit:\n",
    "            print(f\"Stop search after {self._solution_limit} solutions\")\n",
    "            self.stop_search()\n",
    "\n",
    "    def solution_count(self):\n",
    "        return self._solution_count"
   ]
  },
  {
   "cell_type": "code",
   "execution_count": 11,
   "metadata": {},
   "outputs": [],
   "source": [
    "# Display the first five solutions\n",
    "solution_limit = 5\n",
    "solution_printer = DriverSchedulePrinter(\n",
    "    assignments, num_drivers, num_days, num_windows, solution_limit\n",
    ")\n"
   ]
  },
  {
   "cell_type": "code",
   "execution_count": 12,
   "metadata": {},
   "outputs": [
    {
     "name": "stdout",
     "output_type": "stream",
     "text": [
      "Solution 1\n",
      "Day 0\n",
      "  Driver 0 is off duty\n",
      "  Driver 1 covers delivery window 1\n",
      "  Driver 2 covers delivery window 2\n",
      "  Driver 3 covers delivery window 0\n",
      "Day 1\n",
      "  Driver 0 covers delivery window 2\n",
      "  Driver 1 is off duty\n",
      "  Driver 2 covers delivery window 1\n",
      "  Driver 3 covers delivery window 0\n",
      "Day 2\n",
      "  Driver 0 covers delivery window 2\n",
      "  Driver 1 covers delivery window 1\n",
      "  Driver 2 covers delivery window 0\n",
      "  Driver 3 is off duty\n",
      "Solution 2\n",
      "Day 0\n",
      "  Driver 0 covers delivery window 1\n",
      "  Driver 1 is off duty\n",
      "  Driver 2 covers delivery window 2\n",
      "  Driver 3 covers delivery window 0\n",
      "Day 1\n",
      "  Driver 0 is off duty\n",
      "  Driver 1 covers delivery window 2\n",
      "  Driver 2 covers delivery window 1\n",
      "  Driver 3 covers delivery window 0\n",
      "Day 2\n",
      "  Driver 0 covers delivery window 2\n",
      "  Driver 1 covers delivery window 1\n",
      "  Driver 2 covers delivery window 0\n",
      "  Driver 3 is off duty\n",
      "Solution 3\n",
      "Day 0\n",
      "  Driver 0 covers delivery window 1\n",
      "  Driver 1 is off duty\n",
      "  Driver 2 covers delivery window 2\n",
      "  Driver 3 covers delivery window 0\n",
      "Day 1\n",
      "  Driver 0 covers delivery window 1\n",
      "  Driver 1 covers delivery window 2\n",
      "  Driver 2 is off duty\n",
      "  Driver 3 covers delivery window 0\n",
      "Day 2\n",
      "  Driver 0 covers delivery window 2\n",
      "  Driver 1 covers delivery window 1\n",
      "  Driver 2 covers delivery window 0\n",
      "  Driver 3 is off duty\n",
      "Solution 4\n",
      "Day 0\n",
      "  Driver 0 covers delivery window 1\n",
      "  Driver 1 is off duty\n",
      "  Driver 2 covers delivery window 2\n",
      "  Driver 3 covers delivery window 0\n",
      "Day 1\n",
      "  Driver 0 covers delivery window 2\n",
      "  Driver 1 covers delivery window 1\n",
      "  Driver 2 is off duty\n",
      "  Driver 3 covers delivery window 0\n",
      "Day 2\n",
      "  Driver 0 covers delivery window 2\n",
      "  Driver 1 covers delivery window 1\n",
      "  Driver 2 covers delivery window 0\n",
      "  Driver 3 is off duty\n",
      "Solution 5\n",
      "Day 0\n",
      "  Driver 0 is off duty\n",
      "  Driver 1 covers delivery window 1\n",
      "  Driver 2 covers delivery window 2\n",
      "  Driver 3 covers delivery window 0\n",
      "Day 1\n",
      "  Driver 0 covers delivery window 2\n",
      "  Driver 1 covers delivery window 1\n",
      "  Driver 2 is off duty\n",
      "  Driver 3 covers delivery window 0\n",
      "Day 2\n",
      "  Driver 0 covers delivery window 2\n",
      "  Driver 1 covers delivery window 1\n",
      "  Driver 2 covers delivery window 0\n",
      "  Driver 3 is off duty\n",
      "Stop search after 5 solutions\n"
     ]
    },
    {
     "data": {
      "text/plain": [
       "2"
      ]
     },
     "execution_count": 12,
     "metadata": {},
     "output_type": "execute_result"
    }
   ],
   "source": [
    "solver.solve(model, solution_printer)"
   ]
  },
  {
   "cell_type": "markdown",
   "metadata": {},
   "source": []
  },
  {
   "cell_type": "code",
   "execution_count": null,
   "metadata": {},
   "outputs": [],
   "source": []
  }
 ],
 "metadata": {
  "kernelspec": {
   "display_name": ".supplyseer",
   "language": "python",
   "name": "python3"
  },
  "language_info": {
   "codemirror_mode": {
    "name": "ipython",
    "version": 3
   },
   "file_extension": ".py",
   "mimetype": "text/x-python",
   "name": "python",
   "nbconvert_exporter": "python",
   "pygments_lexer": "ipython3",
   "version": "3.12.7"
  }
 },
 "nbformat": 4,
 "nbformat_minor": 2
}
